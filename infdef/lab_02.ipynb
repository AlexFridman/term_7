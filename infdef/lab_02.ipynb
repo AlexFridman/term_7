{
 "cells": [
  {
   "cell_type": "code",
   "execution_count": 12,
   "metadata": {
    "collapsed": true
   },
   "outputs": [],
   "source": [
    "# text = 'asdfvczxcasdasd'\n",
    "text = '\\n\\x16\\x1d\\r\\x13\\x1a\\x11\\x1d\\x1a\\n\\x16\\x1d\\n\\x16\\x1d'\n",
    "key = 'key'"
   ]
  },
  {
   "cell_type": "code",
   "execution_count": 20,
   "metadata": {
    "collapsed": true
   },
   "outputs": [],
   "source": [
    "def scramble(text, key):\n",
    "    from itertools import cycle\n",
    "    btext = bytearray(text.encode('utf-8'))\n",
    "    bkey = bytearray(key.encode('utf-8'))\n",
    "    return ''.join(map(chr, (c1 ^ c2 for c1, c2 in zip(btext, cycle(bkey)))))"
   ]
  },
  {
   "cell_type": "code",
   "execution_count": 21,
   "metadata": {
    "collapsed": true
   },
   "outputs": [],
   "source": [
    "text = 'asdfvczxcasdasd'\n",
    "key = 'key'\n",
    "\n",
    "encrypted = scramble(text, key)"
   ]
  },
  {
   "cell_type": "code",
   "execution_count": 22,
   "metadata": {
    "collapsed": false
   },
   "outputs": [
    {
     "data": {
      "text/plain": [
       "'asdfvczxcasdasd'"
      ]
     },
     "execution_count": 22,
     "metadata": {},
     "output_type": "execute_result"
    }
   ],
   "source": [
    "scramble(encrypted, key)"
   ]
  }
 ],
 "metadata": {
  "kernelspec": {
   "display_name": "Python 3",
   "language": "python",
   "name": "python3"
  },
  "language_info": {
   "codemirror_mode": {
    "name": "ipython",
    "version": 3
   },
   "file_extension": ".py",
   "mimetype": "text/x-python",
   "name": "python",
   "nbconvert_exporter": "python",
   "pygments_lexer": "ipython3",
   "version": "3.5.1"
  },
  "widgets": {
   "state": {},
   "version": "1.1.2"
  }
 },
 "nbformat": 4,
 "nbformat_minor": 0
}
