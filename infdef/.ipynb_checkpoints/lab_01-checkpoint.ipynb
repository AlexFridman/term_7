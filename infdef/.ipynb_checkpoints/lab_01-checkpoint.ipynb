{
 "cells": [
  {
   "cell_type": "code",
   "execution_count": 4,
   "metadata": {
    "collapsed": true
   },
   "outputs": [],
   "source": [
    "abc = ''.join([chr(i + 97) for i in range(26)]) + ' '"
   ]
  },
  {
   "cell_type": "code",
   "execution_count": 5,
   "metadata": {
    "collapsed": true
   },
   "outputs": [],
   "source": [
    "def cezar(text, o):\n",
    "    o %= len(abc)\n",
    "    abc_ = abc * 2\n",
    "    t = abc_[o:][:len(abc)]\n",
    "    transtab = str.maketrans(abc, t)\n",
    "    return text.translate(transtab)"
   ]
  },
  {
   "cell_type": "code",
   "execution_count": 7,
   "metadata": {
    "collapsed": false
   },
   "outputs": [
    {
     "name": "stdout",
     "output_type": "stream",
     "text": [
      "qdc bqzyx enw itlor nudq sgd kzyx cnf\n",
      "redacr zyafoxajumpsaoveratheal zyadog\n",
      "sfebdsa zbgpybkvnqtbpwfsbuifbma zbeph\n",
      "tgfcetba chqzclworucqxgtcvjgcnba cfqi\n",
      "uhgdfucbadir dmxpsvdryhudwkhdocbadgrj\n",
      "vihegvdcbejsaenyqtweszivexliepdcbehsk\n",
      "wjifhwedcfktbfozruxft jwfymjfqedcfitl\n",
      "xkjgixfedglucgp svyguakxgznkgrfedgjum\n",
      "ylkhjygfehmvdhqatwzhvblyh olhsgfehkvn\n",
      "zmlikzhgfinweirbux iwcmziapmithgfilwo\n",
      " nmjl ihgjoxfjscvyajxdn jbqnjuihgjmxp\n",
      "aonkmajihkpygktdwzbkyeoakcrokvjihknyq\n",
      "bpolnbkjilqzhluex clzfpbldsplwkjilozr\n",
      "cqpmoclkjmr imvfyadm gqcmetqmxlkjmp s\n",
      "drqnpdmlknsajnwgzbenahrdnfurnymlknqat\n",
      "esroqenmlotbkoxh cfobiseogvsoznmlorbu\n",
      "ftsprfonmpuclpyiadgpcjtfphwtp onmpscv\n",
      "gutqsgponqvdmqzjbehqdkugqixuqaponqtdw\n",
      "hvurthqporwenr kcfirelvhrjyvrbqporuex\n",
      "iwvsuirqpsxfosaldgjsfmwiskzwscrqpsvfy\n",
      "jxwtvjsrqtygptbmehktgnxjtl xtdsrqtwgz\n",
      "kyxuwktsruzhqucnfiluhoykumayuetsruxh \n",
      "lzyvxlutsv irvdogjmvipzlvnbzvfutsvyia\n",
      "m zwymvutwajswephknwjq mwoc wgvutwzjb\n",
      "na xznwvuxbktxfqiloxkranxpdaxhwvux kc\n",
      "obay oxwvycluygrjmpylsboyqebyixwvyald\n",
      "pcbzapyxwzdmvzhsknqzmtcpzrfczjyxwzbme\n"
     ]
    }
   ],
   "source": [
    "def decrypt(encrypted):\n",
    "    for i in range(len(abc)):\n",
    "        print(cezar(encrypted, i))\n",
    "\n",
    "decrypt('qdc bqzyx enw itlor nudq sgd kzyx cnf')"
   ]
  },
  {
   "cell_type": "code",
   "execution_count": null,
   "metadata": {
    "collapsed": true
   },
   "outputs": [],
   "source": []
  }
 ],
 "metadata": {
  "kernelspec": {
   "display_name": "Python 3",
   "language": "python",
   "name": "python3"
  },
  "language_info": {
   "codemirror_mode": {
    "name": "ipython",
    "version": 3
   },
   "file_extension": ".py",
   "mimetype": "text/x-python",
   "name": "python",
   "nbconvert_exporter": "python",
   "pygments_lexer": "ipython3",
   "version": "3.5.1"
  },
  "widgets": {
   "state": {},
   "version": "1.1.2"
  }
 },
 "nbformat": 4,
 "nbformat_minor": 0
}
