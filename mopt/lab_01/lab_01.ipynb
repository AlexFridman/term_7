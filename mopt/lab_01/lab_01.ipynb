{
 "cells": [
  {
   "cell_type": "code",
   "execution_count": 2,
   "metadata": {
    "collapsed": true
   },
   "outputs": [],
   "source": [
    "import numpy as np"
   ]
  },
  {
   "cell_type": "code",
   "execution_count": 109,
   "metadata": {
    "collapsed": false
   },
   "outputs": [],
   "source": [
    "def find_basis(A, tol=1e-3):\n",
    "    from itertools import combinations\n",
    "    \n",
    "    m, n = A.shape\n",
    "    indexes = range(n)\n",
    "\n",
    "    for basis in combinations(indexes, m):\n",
    "        A_b = A[:,basis]\n",
    "        if np.abs(np.linalg.det(A_b)) > tol:\n",
    "            basis = set(basis)\n",
    "            return np.array([i in basis for i in range(n)])\n",
    "        \n",
    "def dual_simplex(A, b, c, d_l, d_u, iters=10):\n",
    "    J_b = find_basis(A)\n",
    "    m, n = A.shape\n",
    "    for i in range(1, iters + 1):\n",
    "        A_b = A[:,J_b]\n",
    "        B = np.linalg.inv(A_b)\n",
    "\n",
    "        y = c[J_b].T.dot(B)\n",
    "\n",
    "        # stage 7\n",
    "        delta = y.dot(A) - c\n",
    "\n",
    "        J_h = J_b == False\n",
    "        J_h_plus = J_h & (delta >= 0)\n",
    "        J_h_minus = J_h & (J_h_plus == False)\n",
    "\n",
    "        # stage 2\n",
    "#         aleph = np.zeros(n)\n",
    "#         aleph[(J_b == False) & J_h_plus] = d_l[(J_b == False) & J_h_plus]\n",
    "#         aleph[(J_b == False) & (J_h_plus == False)] = d_u[(J_b == False) & (J_h_plus == False)]\n",
    "        aleph[J_h_plus] = d_l[J_h_plus]\n",
    "        aleph[J_h_minus] = d_u[J_h_minus]\n",
    "        mask = J_h_plus | J_h_minus\n",
    "        aleph[J_b] = B.dot((b - A[:,mask].dot(aleph[mask])).T)\n",
    "\n",
    "        # stage 3\n",
    "        if np.all(d[J_b] <= aleph[J_b]) & np.all(aleph[J_b] <= d_star[J_b]):\n",
    "            return aleph\n",
    "\n",
    "        # stage 4\n",
    "        print(aleph)\n",
    "        j_k = np.argwhere(((aleph < d_l) | (aleph > d_u)) & J_b).min()\n",
    "        j_k_idx = np.argwhere(np.argwhere(J_b).ravel() == j_k).min()\n",
    "\n",
    "        # stage 5\n",
    "        mu = np.zeros(n)\n",
    "        mu[j_k] = 1 if aleph[j_k] < d_l[j_k] else -1\n",
    "        delta_y = mu[j_k] * B[j_k_idx]\n",
    "        mask = J_b == False\n",
    "        mask[j_k] = False\n",
    "        mu[mask] = delta_y.dot(A[:,mask])\n",
    "\n",
    "        # stage 6\n",
    "        sigma = np.zeros(n)\n",
    "        sigma[J_h == False] = np.infty\n",
    "        mask = J_h & (J_h_plus & (mu < 0)) | (J_h_minus & (mu > 0))\n",
    "        sigma[mask] = -delta[mask] / mu[mask]\n",
    "        mask = J_h & ((J_h_plus & (mu < 0)) | (J_h_minus & (mu > 0)) == False)\n",
    "        sigma[mask] = np.infty\n",
    "\n",
    "        j_0 = np.argmin(sigma)\n",
    "        if sigma[j_0] == np.infty:\n",
    "            raise Exception('There is not solution')\n",
    "\n",
    "        # stage 8\n",
    "        J_b[j_k] = False\n",
    "        J_b[j_0] = True\n",
    "\n",
    "        J_h = J_b == False\n",
    "        J_h_plus[j_0] = False\n",
    "\n",
    "        if mu[j_k] == 1:\n",
    "            J_h_plus[j_k] = True\n",
    "\n",
    "        J_h_minus = J_h_plus == False\n",
    "\n",
    "        J_h = J_b == False\n",
    "\n",
    "        if mu[j_k] == 1:\n",
    "            J_h_plus[j_k] = True\n",
    "\n",
    "        if mu[j_k] in (-1, 1) and J_h_plus[j_0]:\n",
    "            J_h_plus[j_0] = False\n",
    "\n",
    "        J_h_minus = J_h & (J_h_plus == False)\n",
    "    else:\n",
    "        raise Exception('Did not converge in {} iterations'.format(iters))"
   ]
  },
  {
   "cell_type": "markdown",
   "metadata": {},
   "source": [
    "## Example 1"
   ]
  },
  {
   "cell_type": "code",
   "execution_count": 110,
   "metadata": {
    "collapsed": false
   },
   "outputs": [
    {
     "name": "stdout",
     "output_type": "stream",
     "text": [
      "[ 0.  0.  0.  3. -1.  0.]\n",
      "[ 0.  0.  2.  0. -1.  0.]\n"
     ]
    },
    {
     "data": {
      "text/plain": [
       "array([ 0.,  0.,  2.,  1., -1.,  0.])"
      ]
     },
     "execution_count": 110,
     "metadata": {},
     "output_type": "execute_result"
    }
   ],
   "source": [
    "A = np.array([\n",
    "    [2, 1, -1, 0, 0, 1],\n",
    "    [1, 0, 1, 1, 0, 0],\n",
    "    [0, 1, 0, 0, 1, 0]\n",
    "])\n",
    "\n",
    "b = np.array([2, 5, 0])\n",
    "\n",
    "c = np.array([3, 2, 0, 3, -2, -4])\n",
    "d_l = np.array([0, -1, 2, 1, -1, 0])\n",
    "d_u = np.array([2, 4, 4, 3, 3, 5])\n",
    "\n",
    "J_b = np.array([False, False, False, True, True, True])\n",
    "\n",
    "dual_simplex(A, b, c, d_l, d_u)"
   ]
  },
  {
   "cell_type": "markdown",
   "metadata": {},
   "source": [
    "## Problem 1"
   ]
  },
  {
   "cell_type": "code",
   "execution_count": 111,
   "metadata": {
    "collapsed": false
   },
   "outputs": [
    {
     "name": "stdout",
     "output_type": "stream",
     "text": [
      "[ 0.  0.  0.  0.  4.  6.]\n",
      "[ 2.  0.  0.  0.  4.  6.]\n",
      "[ 2.  1.  0.  0.  4.  0.]\n",
      "[ 0.  1.  0.  0.  4.  1.]\n",
      "[ 2.  1.  0.  0.  4.  0.]\n",
      "[ 0.  1.  0.  0.  4.  1.]\n",
      "[ 2.  1.  0.  0.  4.  0.]\n",
      "[ 0.  1.  0.  0.  4.  1.]\n",
      "[ 2.  1.  0.  0.  4.  0.]\n",
      "[ 0.  1.  0.  0.  4.  1.]\n"
     ]
    },
    {
     "ename": "Exception",
     "evalue": "Did not converge in 10 iterations",
     "output_type": "error",
     "traceback": [
      "\u001b[0;31m---------------------------------------------------------------------------\u001b[0m",
      "\u001b[0;31mException\u001b[0m                                 Traceback (most recent call last)",
      "\u001b[0;32m<ipython-input-111-7380fe26bbad>\u001b[0m in \u001b[0;36m<module>\u001b[0;34m()\u001b[0m\n\u001b[1;32m     11\u001b[0m \u001b[0md_u\u001b[0m \u001b[0;34m=\u001b[0m \u001b[0mnp\u001b[0m\u001b[0;34m.\u001b[0m\u001b[0marray\u001b[0m\u001b[0;34m(\u001b[0m\u001b[0;34m[\u001b[0m\u001b[0;36m6\u001b[0m\u001b[0;34m,\u001b[0m \u001b[0;36m6\u001b[0m\u001b[0;34m,\u001b[0m \u001b[0;36m5\u001b[0m\u001b[0;34m,\u001b[0m \u001b[0;36m2\u001b[0m\u001b[0;34m,\u001b[0m \u001b[0;36m4\u001b[0m\u001b[0;34m,\u001b[0m \u001b[0;36m6\u001b[0m\u001b[0;34m]\u001b[0m\u001b[0;34m,\u001b[0m \u001b[0mdtype\u001b[0m\u001b[0;34m=\u001b[0m\u001b[0mfloat\u001b[0m\u001b[0;34m)\u001b[0m\u001b[0;34m\u001b[0m\u001b[0m\n\u001b[1;32m     12\u001b[0m \u001b[0;34m\u001b[0m\u001b[0m\n\u001b[0;32m---> 13\u001b[0;31m \u001b[0mdual_simplex\u001b[0m\u001b[0;34m(\u001b[0m\u001b[0mA\u001b[0m\u001b[0;34m,\u001b[0m \u001b[0mb\u001b[0m\u001b[0;34m,\u001b[0m \u001b[0mc\u001b[0m\u001b[0;34m,\u001b[0m \u001b[0md_l\u001b[0m\u001b[0;34m,\u001b[0m \u001b[0md_u\u001b[0m\u001b[0;34m)\u001b[0m\u001b[0;34m\u001b[0m\u001b[0m\n\u001b[0m",
      "\u001b[0;32m<ipython-input-109-8ae732678362>\u001b[0m in \u001b[0;36mdual_simplex\u001b[0;34m(A, b, c, d_l, d_u, iters)\u001b[0m\n\u001b[1;32m     87\u001b[0m         \u001b[0mJ_h_minus\u001b[0m \u001b[0;34m=\u001b[0m \u001b[0mJ_h\u001b[0m \u001b[0;34m&\u001b[0m \u001b[0;34m(\u001b[0m\u001b[0mJ_h_plus\u001b[0m \u001b[0;34m==\u001b[0m \u001b[0;32mFalse\u001b[0m\u001b[0;34m)\u001b[0m\u001b[0;34m\u001b[0m\u001b[0m\n\u001b[1;32m     88\u001b[0m     \u001b[0;32melse\u001b[0m\u001b[0;34m:\u001b[0m\u001b[0;34m\u001b[0m\u001b[0m\n\u001b[0;32m---> 89\u001b[0;31m         \u001b[0;32mraise\u001b[0m \u001b[0mException\u001b[0m\u001b[0;34m(\u001b[0m\u001b[0;34m'Did not converge in {} iterations'\u001b[0m\u001b[0;34m.\u001b[0m\u001b[0mformat\u001b[0m\u001b[0;34m(\u001b[0m\u001b[0miters\u001b[0m\u001b[0;34m)\u001b[0m\u001b[0;34m)\u001b[0m\u001b[0;34m\u001b[0m\u001b[0m\n\u001b[0m",
      "\u001b[0;31mException\u001b[0m: Did not converge in 10 iterations"
     ]
    }
   ],
   "source": [
    "A = np.array([\n",
    "    [1, -5, 3, 1, 0, 0],\n",
    "    [4, -1, 1, 0, 1, 0],\n",
    "    [2, 4, 2, 0, 0, 1]\n",
    "], dtype=float)\n",
    "\n",
    "b = np.array([-7, 22, 30], dtype=float)\n",
    "\n",
    "c = np.array([7, -2, 6, 0, 5, 2], dtype=float)\n",
    "d_l = np.array([2, 1, 0, 0, 1, 1], dtype=float)\n",
    "d_u = np.array([6, 6, 5, 2, 4, 6], dtype=float)\n",
    "\n",
    "dual_simplex(A, b, c, d_l, d_u)"
   ]
  },
  {
   "cell_type": "code",
   "execution_count": null,
   "metadata": {
    "collapsed": true
   },
   "outputs": [],
   "source": []
  }
 ],
 "metadata": {
  "kernelspec": {
   "display_name": "Python 3",
   "language": "python",
   "name": "python3"
  },
  "language_info": {
   "codemirror_mode": {
    "name": "ipython",
    "version": 3
   },
   "file_extension": ".py",
   "mimetype": "text/x-python",
   "name": "python",
   "nbconvert_exporter": "python",
   "pygments_lexer": "ipython3",
   "version": "3.5.1"
  },
  "widgets": {
   "state": {},
   "version": "1.1.2"
  }
 },
 "nbformat": 4,
 "nbformat_minor": 0
}
