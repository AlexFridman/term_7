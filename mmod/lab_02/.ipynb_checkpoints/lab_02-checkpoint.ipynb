{
 "cells": [
  {
   "cell_type": "code",
   "execution_count": 12,
   "metadata": {
    "collapsed": true
   },
   "outputs": [],
   "source": [
    "import numpy as np\n",
    "import scipy as sp\n",
    "import scipy.stats\n",
    "import pandas as pd\n",
    "import matplotlib.pyplot as plt\n",
    "%matplotlib inline"
   ]
  },
  {
   "cell_type": "markdown",
   "metadata": {},
   "source": [
    "## Процедуры генерирования СВ"
   ]
  },
  {
   "cell_type": "code",
   "execution_count": 28,
   "metadata": {
    "collapsed": true
   },
   "outputs": [],
   "source": [
    "def random_event(p):\n",
    "    return np.random.uniform() <= p"
   ]
  },
  {
   "cell_type": "code",
   "execution_count": 5,
   "metadata": {
    "collapsed": false
   },
   "outputs": [],
   "source": [
    "def complex_random_event(p1, p2):\n",
    "    event_1, event_2 = random_event(p1), random_event(p2)\n",
    "    if event_1 and event_2:\n",
    "        return 'AB'\n",
    "    elif event_1 and not event_2:\n",
    "        return 'A_NOT_B'\n",
    "    elif event_2 and not event_1:\n",
    "        return 'NOT_A_B'\n",
    "    return 'NOT_A_NOT_B'"
   ]
  },
  {
   "cell_type": "code",
   "execution_count": 6,
   "metadata": {
    "collapsed": true
   },
   "outputs": [],
   "source": [
    "def complex_random_event_of_dependent_events(p_A, p_B, p_B_A):\n",
    "    x1, x2 = np.random.uniform(), np.random.uniform()\n",
    "    p_B_NOT_A = (p_A - p_B_A * p_B) / (1 - P_B)\n",
    "    if x1 <= p_A and x2 <= p_B_A:\n",
    "        return 'AB'\n",
    "    elif x1 > p_A and x2 <= p_B_NOT_A:\n",
    "        return 'A_NOT_B'\n",
    "    elif x1 <= p_A and x2 > 1 - p_B_A:\n",
    "        return 'NOT_A_B'\n",
    "    return 'NOT_A_NOT_B'"
   ]
  },
  {
   "cell_type": "markdown",
   "metadata": {},
   "source": [
    "## Процедура расчета ДИ для нормального распределения"
   ]
  },
  {
   "cell_type": "code",
   "execution_count": 7,
   "metadata": {
    "collapsed": true
   },
   "outputs": [],
   "source": [
    "def mean_confidence_interval(data, confidence=0.95):\n",
    "    a = 1.0*np.array(data)\n",
    "    n = len(a)\n",
    "    m, se = np.mean(a), scipy.stats.sem(a)\n",
    "    h = se * sp.stats.t._ppf((1+confidence)/2., n-1)\n",
    "    return m, m-h, m+h"
   ]
  },
  {
   "cell_type": "markdown",
   "metadata": {},
   "source": [
    "## Аналитическое решение"
   ]
  },
  {
   "cell_type": "code",
   "execution_count": 25,
   "metadata": {
    "collapsed": true
   },
   "outputs": [],
   "source": [
    "def p(n, profit=100, players=6):\n",
    "    return (profit + n) / (players * n)"
   ]
  },
  {
   "cell_type": "markdown",
   "metadata": {},
   "source": [
    "## Проверка при помощи генератора биномиального распределения"
   ]
  },
  {
   "cell_type": "code",
   "execution_count": 26,
   "metadata": {
    "collapsed": false
   },
   "outputs": [
    {
     "data": {
      "text/html": [
       "<div>\n",
       "<table border=\"1\" class=\"dataframe\">\n",
       "  <thead>\n",
       "    <tr style=\"text-align: right;\">\n",
       "      <th></th>\n",
       "      <th>conf_int</th>\n",
       "      <th>n</th>\n",
       "      <th>p</th>\n",
       "    </tr>\n",
       "  </thead>\n",
       "  <tbody>\n",
       "    <tr>\n",
       "      <th>0</th>\n",
       "      <td>[84.68, 113.12]</td>\n",
       "      <td>100</td>\n",
       "      <td>6.369329e-02</td>\n",
       "    </tr>\n",
       "    <tr>\n",
       "      <th>1</th>\n",
       "      <td>[89.49, 98.42]</td>\n",
       "      <td>1000</td>\n",
       "      <td>1.772807e-01</td>\n",
       "    </tr>\n",
       "    <tr>\n",
       "      <th>2</th>\n",
       "      <td>[98.87, 101.76]</td>\n",
       "      <td>10000</td>\n",
       "      <td>6.924049e-04</td>\n",
       "    </tr>\n",
       "    <tr>\n",
       "      <th>3</th>\n",
       "      <td>[99.44, 100.35]</td>\n",
       "      <td>100000</td>\n",
       "      <td>1.086131e-13</td>\n",
       "    </tr>\n",
       "  </tbody>\n",
       "</table>\n",
       "</div>"
      ],
      "text/plain": [
       "          conf_int       n             p\n",
       "0  [84.68, 113.12]     100  6.369329e-02\n",
       "1   [89.49, 98.42]    1000  1.772807e-01\n",
       "2  [98.87, 101.76]   10000  6.924049e-04\n",
       "3  [99.44, 100.35]  100000  1.086131e-13"
      ]
     },
     "execution_count": 26,
     "metadata": {},
     "output_type": "execute_result"
    },
    {
     "data": {
      "image/png": "[encoded data removed]",
      "text/plain": [
       "<matplotlib.figure.Figure at 0x111b5ef98>"
      ]
     },
     "metadata": {},
     "output_type": "display_data"
    },
    {
     "data": {
      "image/png": "[encoded data removed]",
      "text/plain": [
       "<matplotlib.figure.Figure at 0x10ca69a58>"
      ]
     },
     "metadata": {},
     "output_type": "display_data"
    },
    {
     "data": {
      "image/png": "[encoded data removed]",
      "text/plain": [
       "<matplotlib.figure.Figure at 0x112cb5470>"
      ]
     },
     "metadata": {},
     "output_type": "display_data"
    },
    {
     "data": {
      "image/png": "[encoded data removed]",
      "text/plain": [
       "<matplotlib.figure.Figure at 0x10dcdc128>"
      ]
     },
     "metadata": {},
     "output_type": "display_data"
    }
   ],
   "source": [
    "stat = []\n",
    "N = 1000\n",
    "pr = p(N)\n",
    "\n",
    "for n in [100, 1000, 10000, 100000]:\n",
    "    s = np.random.binomial(N, pr, size=n)\n",
    "    profit = [i * 5 - (N - i) for i in s]\n",
    "    plt.figure(figsize=(10, 4))\n",
    "    m, m_l, m_u = mean_confidence_interval(profit)\n",
    "    _, p_value = scipy.stats.mstats.normaltest(profit)\n",
    "    plt.title('n={}, mean={}, [{}, {}]'.format(n, np.mean(profit), m_l, m_u))\n",
    "    stat.append({\n",
    "            'n': n,\n",
    "            'conf_int': '[{0:.2f}, {1:.2f}]'.format(m_l, m_u),\n",
    "            'p': p_value\n",
    "        })\n",
    "    plt.hist(profit)\n",
    "    \n",
    "pd.DataFrame(stat)"
   ]
  },
  {
   "cell_type": "markdown",
   "metadata": {},
   "source": [
    "## Проверка генерированием игр"
   ]
  },
  {
   "cell_type": "code",
   "execution_count": 32,
   "metadata": {
    "collapsed": false
   },
   "outputs": [
    {
     "data": {
      "text/plain": [
       "99.5"
      ]
     },
     "execution_count": 32,
     "metadata": {},
     "output_type": "execute_result"
    },
    {
     "data": {
      "image/png": "[encoded data removed]",
      "text/plain": [
       "<matplotlib.figure.Figure at 0x11247b470>"
      ]
     },
     "metadata": {},
     "output_type": "display_data"
    }
   ],
   "source": [
    "N = 1000\n",
    "pr = p(N)\n",
    "outcomes = {True: 5, False: -1}\n",
    "profits = []\n",
    "\n",
    "for _ in range(1000):\n",
    "    game = [random_event(pr) for _ in range(N)]\n",
    "    profit = sum(outcomes[i] for i in game)\n",
    "    profits.append(profit)\n",
    "    \n",
    "plt.hist(profits)\n",
    "np.mean(profits)"
   ]
  }
 ],
 "metadata": {
  "kernelspec": {
   "display_name": "Python 3",
   "language": "python",
   "name": "python3"
  },
  "language_info": {
   "codemirror_mode": {
    "name": "ipython",
    "version": 3
   },
   "file_extension": ".py",
   "mimetype": "text/x-python",
   "name": "python",
   "nbconvert_exporter": "python",
   "pygments_lexer": "ipython3",
   "version": "3.5.1"
  },
  "widgets": {
   "state": {},
   "version": "1.1.2"
  }
 },
 "nbformat": 4,
 "nbformat_minor": 0
}
