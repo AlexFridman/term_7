{
 "cells": [
  {
   "cell_type": "code",
   "execution_count": 1,
   "metadata": {
    "collapsed": true
   },
   "outputs": [],
   "source": [
    "import numpy as np\n",
    "import pandas as pd\n",
    "import matplotlib.pyplot as plt\n",
    "from scipy.stats import pearsonr\n",
    "%matplotlib inline"
   ]
  },
  {
   "cell_type": "markdown",
   "metadata": {},
   "source": [
    "## Метод середины квадрата"
   ]
  },
  {
   "cell_type": "code",
   "execution_count": 2,
   "metadata": {
    "collapsed": true
   },
   "outputs": [],
   "source": [
    "def square_mid(seed=9823):\n",
    "    assert 1000 <= seed <= 9999\n",
    "    \n",
    "    while True:\n",
    "        seed = seed ** 2\n",
    "        seed_str = str(seed).rjust(8, '0')\n",
    "        seed = int(seed_str[2:-2])\n",
    "        yield seed / 1e4"
   ]
  },
  {
   "cell_type": "markdown",
   "metadata": {},
   "source": [
    "## Мультипликативный конгруэнтный метод"
   ]
  },
  {
   "cell_type": "code",
   "execution_count": 3,
   "metadata": {
    "collapsed": true
   },
   "outputs": [],
   "source": [
    "def mul_mod(m, k, a_0):\n",
    "    a_i = a_0\n",
    "    yield a_i\n",
    "    while True:\n",
    "        a_i = (k * a_i) % m\n",
    "        yield a_i / m"
   ]
  },
  {
   "cell_type": "markdown",
   "metadata": {},
   "source": [
    "## Тестирование равномероности \"Метод середины квадрата\""
   ]
  },
  {
   "cell_type": "code",
   "execution_count": 9,
   "metadata": {
    "collapsed": false
   },
   "outputs": [
    {
     "data": {
      "text/html": [
       "<div>\n",
       "<table border=\"1\" class=\"dataframe\">\n",
       "  <thead>\n",
       "    <tr style=\"text-align: right;\">\n",
       "      <th></th>\n",
       "      <th>E</th>\n",
       "      <th>Var</th>\n",
       "      <th>n</th>\n",
       "    </tr>\n",
       "  </thead>\n",
       "  <tbody>\n",
       "    <tr>\n",
       "      <th>0</th>\n",
       "      <td>0.44561</td>\n",
       "      <td>0.086123</td>\n",
       "      <td>10</td>\n",
       "    </tr>\n",
       "    <tr>\n",
       "      <th>1</th>\n",
       "      <td>0.47484</td>\n",
       "      <td>0.079392</td>\n",
       "      <td>20</td>\n",
       "    </tr>\n",
       "    <tr>\n",
       "      <th>2</th>\n",
       "      <td>0.44061</td>\n",
       "      <td>0.068749</td>\n",
       "      <td>30</td>\n",
       "    </tr>\n",
       "  </tbody>\n",
       "</table>\n",
       "</div>"
      ],
      "text/plain": [
       "         E       Var   n\n",
       "0  0.44561  0.086123  10\n",
       "1  0.47484  0.079392  20\n",
       "2  0.44061  0.068749  30"
      ]
     },
     "execution_count": 9,
     "metadata": {},
     "output_type": "execute_result"
    },
    {
     "data": {
      "image/png": "[encoded data removed]",
      "text/plain": [
       "<matplotlib.figure.Figure at 0x10b8b86d8>"
      ]
     },
     "metadata": {},
     "output_type": "display_data"
    }
   ],
   "source": [
    "K = 10\n",
    "\n",
    "ns = [10, 20, 30]\n",
    "\n",
    "\n",
    "stat = []\n",
    "\n",
    "for n in ns:\n",
    "    gen = square_mid()\n",
    "    sample = [next(gen) for _ in range(n)]\n",
    "    stat.append({'n': n, 'E': np.mean(sample), 'Var': np.var(sample)})\n",
    "    plt.hist(sample, bins=np.linspace(0, 1, K),\n",
    "             label=str(n), normed=True, alpha=0.5)\n",
    "    \n",
    "plt.legend()\n",
    "plt.plot([0, 1], [1/K] * 2)\n",
    "\n",
    "pd.DataFrame(stat)"
   ]
  },
  {
   "cell_type": "markdown",
   "metadata": {},
   "source": [
    "## Тестирование равномероности \"Мультипликативный конгруэнтный метод\""
   ]
  },
  {
   "cell_type": "code",
   "execution_count": 5,
   "metadata": {
    "collapsed": false
   },
   "outputs": [
    {
     "data": {
      "text/html": [
       "<div>\n",
       "<table border=\"1\" class=\"dataframe\">\n",
       "  <thead>\n",
       "    <tr style=\"text-align: right;\">\n",
       "      <th></th>\n",
       "      <th>E</th>\n",
       "      <th>Var</th>\n",
       "      <th>n</th>\n",
       "    </tr>\n",
       "  </thead>\n",
       "  <tbody>\n",
       "    <tr>\n",
       "      <th>0</th>\n",
       "      <td>0.611751</td>\n",
       "      <td>0.174884</td>\n",
       "      <td>50</td>\n",
       "    </tr>\n",
       "    <tr>\n",
       "      <th>1</th>\n",
       "      <td>0.500811</td>\n",
       "      <td>0.083552</td>\n",
       "      <td>10000</td>\n",
       "    </tr>\n",
       "  </tbody>\n",
       "</table>\n",
       "</div>"
      ],
      "text/plain": [
       "          E       Var      n\n",
       "0  0.611751  0.174884     50\n",
       "1  0.500811  0.083552  10000"
      ]
     },
     "execution_count": 5,
     "metadata": {},
     "output_type": "execute_result"
    },
    {
     "data": {
      "image/png": "[encoded data removed]",
      "text/plain": [
       "<matplotlib.figure.Figure at 0x10b851470>"
      ]
     },
     "metadata": {},
     "output_type": "display_data"
    }
   ],
   "source": [
    "K = 10\n",
    "\n",
    "ns = [50, 10000]\n",
    "\n",
    "\n",
    "stat = []\n",
    "\n",
    "for n in ns:\n",
    "    gen = mul_mod(1091, 547, 3)\n",
    "    sample = [next(gen) for _ in range(n)]\n",
    "    stat.append({'n': n, 'E': np.mean(sample), 'Var': np.var(sample)})\n",
    "    plt.hist(sample, bins=np.linspace(0, 1, K),\n",
    "             label=str(n), normed=True, alpha=0.5)\n",
    "    \n",
    "plt.legend()\n",
    "plt.plot([0, 1], [1/K] * 2)\n",
    "\n",
    "pd.DataFrame(stat)"
   ]
  },
  {
   "cell_type": "markdown",
   "metadata": {},
   "source": [
    "## Тестирование независимости \"Метод середины квадрата\""
   ]
  },
  {
   "cell_type": "code",
   "execution_count": 12,
   "metadata": {
    "collapsed": false
   },
   "outputs": [
    {
     "data": {
      "text/plain": [
       "<matplotlib.axes._subplots.AxesSubplot at 0x10bd28358>"
      ]
     },
     "execution_count": 12,
     "metadata": {},
     "output_type": "execute_result"
    },
    {
     "data": {
      "image/png": "[encoded data removed]",
      "text/plain": [
       "<matplotlib.figure.Figure at 0x10bde29e8>"
      ]
     },
     "metadata": {},
     "output_type": "display_data"
    }
   ],
   "source": [
    "ns = [10, 20, 30]\n",
    "ss = [1, 2, 3, 4, 5, 6]\n",
    "\n",
    "stat = []\n",
    "\n",
    "def R(z, s):\n",
    "    return 12 / (len(z) - s) * \\\n",
    "        sum(z_i * z_is for z_i, z_is in zip(z, z[s:])) - 3\n",
    "    \n",
    "for n in ns:\n",
    "    for s in ss:\n",
    "        gen = square_mid()\n",
    "        sample = [next(gen) for _ in range(n)]\n",
    "        # p, _ = pearsonr(sample[:-s], sample[s:])\n",
    "        p = R(sample, s)\n",
    "        stat.append({'n': n, 'p': p, 's': s})\n",
    "                    \n",
    "stat_df = pd.DataFrame(stat)\n",
    "stat_df.pivot('n', 's', 'p').plot()"
   ]
  },
  {
   "cell_type": "markdown",
   "metadata": {},
   "source": [
    "## Тестирование независимости \"Мультипликативный конгруэнтный метод\""
   ]
  },
  {
   "cell_type": "code",
   "execution_count": 15,
   "metadata": {
    "collapsed": false,
    "scrolled": true
   },
   "outputs": [
    {
     "data": {
      "text/plain": [
       "<matplotlib.axes._subplots.AxesSubplot at 0x10c063208>"
      ]
     },
     "execution_count": 15,
     "metadata": {},
     "output_type": "execute_result"
    },
    {
     "data": {
      "image/png": "[encoded data removed]",
      "text/plain": [
       "<matplotlib.figure.Figure at 0x10c11a4e0>"
      ]
     },
     "metadata": {},
     "output_type": "display_data"
    }
   ],
   "source": [
    "ns = range(50, 10000, 1000)\n",
    "ss = [1, 2, 3, 4, 5, 6]\n",
    "\n",
    "stat = []\n",
    "\n",
    "def R(z, s):\n",
    "    return 12 / (len(z) - s) * \\\n",
    "        sum(z_i * z_is for z_i, z_is in zip(z, z[s:])) - 3\n",
    "    \n",
    "for n in ns:\n",
    "    for s in ss:\n",
    "        gen = mul_mod(1091, 547, 3)\n",
    "        sample = [next(gen) for _ in range(n)]\n",
    "        p = R(sample, s)\n",
    "        stat.append({'n': n, 'p': p, 's': s})\n",
    "                    \n",
    "\n",
    "stat_df = pd.DataFrame(stat)\n",
    "stat_df.pivot('n', 's', 'p').plot()"
   ]
  }
 ],
 "metadata": {
  "kernelspec": {
   "display_name": "Python 3",
   "language": "python",
   "name": "python3"
  },
  "language_info": {
   "codemirror_mode": {
    "name": "ipython",
    "version": 3
   },
   "file_extension": ".py",
   "mimetype": "text/x-python",
   "name": "python",
   "nbconvert_exporter": "python",
   "pygments_lexer": "ipython3",
   "version": "3.5.1"
  },
  "widgets": {
   "state": {},
   "version": "1.1.2"
  }
 },
 "nbformat": 4,
 "nbformat_minor": 0
}
